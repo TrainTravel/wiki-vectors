{
 "cells": [
  {
   "cell_type": "markdown",
   "metadata": {},
   "source": [
    "# Wikipedia Vectors - Getting Started"
   ]
  },
  {
   "cell_type": "markdown",
   "metadata": {},
   "source": [
    "In this project, we learned vector representations for Wikipedia articles and Wikidata items using [Word2vec](https://en.wikipedia.org/wiki/Word2vec) models. The original use case for Word2vec was to learn vector representations of words based on word co-occurrence statistics. The intuition is that Word2vec learns \"similar\" vector representations for words that occur in similar contexts. Since words that appear in similar contexts are often semantically and syntactically similar, similar words have similar vector representations (as measured using the cosine similarity, for example). \n",
    "\n",
    "There have been several approaches to learning vector representations of Wikipedia articles that involve using the article text or the link network. Here we apply Word2vec to reading sessions and learn vector representations of articles such that articles that tend to be visited together have similar representations. We can learn representations for [Wikidata](https://www.wikidata.org/wiki/Wikidata:Main_Page) items by simply mapping article titles within each session to Wikidata items using Wikidata sitelinks. The beauty of these Wikidata vectors is that they are trained over reading sessions for all Wikipedia language editions. Another advantage is that they implicitly give a vector representation for any article that has been mapped to a Wikidata item.\n",
    "\n",
    "What follows are some visualizations and code examples to help you get started with using Wikipedia Vectors for your own projects."
   ]
  },
  {
   "cell_type": "markdown",
   "metadata": {},
   "source": [
    "### A Simple Embedding Class"
   ]
  },
  {
   "cell_type": "markdown",
   "metadata": {},
   "source": [
    "The term 'embedding' is often used to refer to a collection of vector representations. The `WikiEmbeddings` class takes care of loading the vector data into a matrix and exposes a method for finding the nearest neighbours of an article in the embedding."
   ]
  },
  {
   "cell_type": "code",
   "execution_count": 197,
   "metadata": {
    "collapsed": true
   },
   "outputs": [],
   "source": [
    "import numpy as np\n",
    "from sklearn.preprocessing import normalize\n",
    "import requests\n",
    "import matplotlib.pyplot as plt\n",
    "%matplotlib inline\n",
    "\n",
    "\n",
    "class WikiEmbeddings:\n",
    "\n",
    "    def __init__(self, fname):\n",
    "        \n",
    "        self.w2idx = {}\n",
    "        self.idx2w = []\n",
    "    \n",
    "        with open(fname, 'rb') as f:\n",
    "            \n",
    "            m, n = next(f).decode('utf8').strip().split(' ')\n",
    "            self.E = np.zeros((int(m), int(n)))\n",
    "\n",
    "            for i, l in enumerate(f):\n",
    "                l = l.decode('utf8').strip().split(' ')\n",
    "                w = l[0]\n",
    "                self.E[i] = np.array(l[1:])\n",
    "                self.w2idx[w] = i\n",
    "                self.idx2w.append(w)\n",
    "                \n",
    "        self.E = normalize(self.E)\n",
    "        self.idx2w = np.array(self.idx2w)\n",
    "\n",
    "    def most_similar(self, w, n=10, min_similarity=0.7):\n",
    "        \"\"\"\n",
    "        Find the top-N most similar words to w, based on cosine similarity.\n",
    "        As a speed optimization, only consider neighbors with a similarity\n",
    "        above min_similarity\n",
    "        \"\"\"\n",
    "        \n",
    "        if type(w) is str:\n",
    "            w = self.E[self.w2idx[w]]\n",
    "\n",
    "        scores = self.E.dot(w)\n",
    "        # only consider neighbours above threshold\n",
    "        min_idxs = np.where(scores > min_similarity)\n",
    "        ranking = np.argsort(-scores[min_idxs])[1:(n+1)]\n",
    "        nn_ws = self.idx2w[min_idxs][ranking]\n",
    "        nn_scores = scores[min_idxs][ranking]\n",
    "        return zip(list(nn_ws), list(nn_scores))\n",
    "    "
   ]
  },
  {
   "cell_type": "markdown",
   "metadata": {},
   "source": [
    "### Exploring Nearest Neighbours"
   ]
  },
  {
   "cell_type": "markdown",
   "metadata": {},
   "source": [
    "Here we load an embedding over English Wikipedia articles trained on reading sessions in enwiki for the first week of February 2016 (Note: we will get to using Wikidata embeddings in a bit). Then we show the nearest neighbours for some sample articles."
   ]
  },
  {
   "cell_type": "code",
   "execution_count": 228,
   "metadata": {
    "collapsed": true
   },
   "outputs": [],
   "source": [
    "en_embedding = WikiEmbeddings('../data/2016_02_01_2016_02_07/2016_02_01_2016_02_07_vectors_en_100')"
   ]
  },
  {
   "cell_type": "code",
   "execution_count": 229,
   "metadata": {
    "collapsed": false
   },
   "outputs": [
    {
     "data": {
      "text/plain": [
       "[(u'Observable_universe', 0.85375291632895289),\n",
       " (u'Age_of_the_universe', 0.85235642926044175),\n",
       " (u'Illustris_project', 0.85231994099886088),\n",
       " (u'Galaxy', 0.8514183810767848),\n",
       " (u'Physical_cosmology', 0.84614629914868011),\n",
       " (u'Galaxy_formation_and_evolution', 0.84448425408485028),\n",
       " (u\"Hubble's_law\", 0.83683439859439279),\n",
       " (u'Particle_horizon', 0.83522401669839896),\n",
       " (u'Comoving_distance', 0.83190559659819152),\n",
       " (u'Ultimate_fate_of_the_universe', 0.82325352743317803)]"
      ]
     },
     "execution_count": 229,
     "metadata": {},
     "output_type": "execute_result"
    }
   ],
   "source": [
    "en_embedding.most_similar('Universe')"
   ]
  },
  {
   "cell_type": "code",
   "execution_count": 230,
   "metadata": {
    "collapsed": false
   },
   "outputs": [
    {
     "data": {
      "text/plain": [
       "[(u'Greater_Swiss_Mountain_Dog', 0.95114274564425605),\n",
       " (u'Appenzeller_Sennenhund', 0.91395230570046748),\n",
       " (u'Swiss_mountain_dog', 0.90908280486459625),\n",
       " (u'Entlebucher_Mountain_Dog', 0.90889919827633225),\n",
       " (u'St._Bernard_(dog)', 0.88576450016436092),\n",
       " (u'Newfoundland_(dog)', 0.8694045725317483),\n",
       " (u'Working_Group_(dogs)', 0.86358809878298959),\n",
       " (u'Mountain_dog', 0.84594602706820388),\n",
       " (u'Schweizerischer_Niederlaufhund', 0.81862187979827961),\n",
       " (u'Bouvier_des_Flandres', 0.81824708187226791)]"
      ]
     },
     "execution_count": 230,
     "metadata": {},
     "output_type": "execute_result"
    }
   ],
   "source": [
    "en_embedding.most_similar('Bernese_Mountain_Dog')"
   ]
  },
  {
   "cell_type": "markdown",
   "metadata": {},
   "source": [
    "### Visualizing the Embedding using TSNE\n",
    "\n",
    "\n",
    "The [t-SNE](https://en.wikipedia.org/wiki/T-distributed_stochastic_neighbor_embedding) algorithm tries to take a collection of high dimensional vecotors and find lower dimensional representations such that the relative distances between points stay preserved as well as possible. This allows us to visualize a part of the embedding in 2D. In the plot below you see the 2D t-SNE projection for the 20 most popular articles in the training data. (Note: The code for getting a readable scatter plot is a bit hairy, so the code has been factored out to a helper file)"
   ]
  },
  {
   "cell_type": "code",
   "execution_count": 231,
   "metadata": {
    "collapsed": false
   },
   "outputs": [
    {
     "ename": "ImportError",
     "evalue": "No module named src.getting_started_helpers",
     "output_type": "error",
     "traceback": [
      "\u001b[1;31m---------------------------------------------------------------------------\u001b[0m",
      "\u001b[1;31mImportError\u001b[0m                               Traceback (most recent call last)",
      "\u001b[1;32m<ipython-input-231-c40bdcb0cdf2>\u001b[0m in \u001b[0;36m<module>\u001b[1;34m()\u001b[0m\n\u001b[0;32m      3\u001b[0m \u001b[0mparentdir\u001b[0m \u001b[1;33m=\u001b[0m \u001b[0mos\u001b[0m\u001b[1;33m.\u001b[0m\u001b[0mpath\u001b[0m\u001b[1;33m.\u001b[0m\u001b[0mdirname\u001b[0m\u001b[1;33m(\u001b[0m\u001b[0mcurrentdir\u001b[0m\u001b[1;33m)\u001b[0m\u001b[1;33m\u001b[0m\u001b[0m\n\u001b[0;32m      4\u001b[0m \u001b[0mos\u001b[0m\u001b[1;33m.\u001b[0m\u001b[0msys\u001b[0m\u001b[1;33m.\u001b[0m\u001b[0mpath\u001b[0m\u001b[1;33m.\u001b[0m\u001b[0minsert\u001b[0m\u001b[1;33m(\u001b[0m\u001b[1;36m0\u001b[0m\u001b[1;33m,\u001b[0m\u001b[0mparentdir\u001b[0m\u001b[1;33m)\u001b[0m\u001b[1;33m\u001b[0m\u001b[0m\n\u001b[1;32m----> 5\u001b[1;33m \u001b[1;32mfrom\u001b[0m \u001b[0msrc\u001b[0m\u001b[1;33m.\u001b[0m\u001b[0mgetting_started_helpers\u001b[0m \u001b[1;32mimport\u001b[0m \u001b[0mget_tsne\u001b[0m\u001b[1;33m,\u001b[0m \u001b[0mplot_tsne\u001b[0m\u001b[1;33m\u001b[0m\u001b[0m\n\u001b[0m",
      "\u001b[1;31mImportError\u001b[0m: No module named src.getting_started_helpers"
     ]
    }
   ],
   "source": [
    "import inspect, os\n",
    "currentdir = os.path.dirname(os.path.abspath(inspect.getfile(inspect.currentframe())))\n",
    "parentdir = os.path.dirname(currentdir)\n",
    "os.sys.path.insert(0,parentdir)\n",
    "from src.getting_started_helpers import get_tsne, plot_tsne"
   ]
  },
  {
   "cell_type": "code",
   "execution_count": 225,
   "metadata": {
    "collapsed": false
   },
   "outputs": [
    {
     "data": {
      "image/png": "[encoded data removed]",
      "text/plain": [
       "<matplotlib.figure.Figure at 0x7fd9ef33d550>"
      ]
     },
     "metadata": {},
     "output_type": "display_data"
    }
   ],
   "source": [
    "tsne_en_embedding = get_tsne(we_en, pca_dim = 5, n_words=1000)\n",
    "plot_tsne(en_embedding, tsne_embedding, n = 20)"
   ]
  },
  {
   "cell_type": "code",
   "execution_count": 168,
   "metadata": {
    "collapsed": false
   },
   "outputs": [],
   "source": [
    "def items_to_titles(items, lang):\n",
    "    \"\"\"\n",
    "    Input: a list of Wikidata item ids\n",
    "    Output: a dictionary mapping from ids to title in lang\n",
    "    \n",
    "    Note: items without an articlce in lang are not included in the output\n",
    "    \"\"\"\n",
    "    lang += 'wiki'\n",
    "    payload = {'action': 'wbgetentities',\n",
    "               'props': 'sitelinks/urls',\n",
    "               'format': 'json',\n",
    "               'ids': '|'.join(items),               \n",
    "              }\n",
    "    r = requests.get('https://www.wikidata.org/w/api.php', params=payload).json()\n",
    "    \n",
    "    return parse_wikidata_sitelinks(r, lang, True)\n",
    "    \n",
    "    \n",
    "def titles_to_items(titles, lang):\n",
    "    \"\"\"\n",
    "    Input: a list of article titles in lang\n",
    "    Output: a dictionary mapping from titles in lang to Wikidata ids\n",
    "    \n",
    "    Note: articles in lang without a Wikidata id are not included in the output\n",
    "\n",
    "    \"\"\"\n",
    "    lang += 'wiki'\n",
    "    payload = {'action': 'wbgetentities',\n",
    "               'props': 'sitelinks/urls',\n",
    "               'format': 'json',\n",
    "               'sites': lang,\n",
    "               'titles': '|'.join(titles),\n",
    "              }\n",
    "    r = requests.get('https://www.wikidata.org/w/api.php', params=payload).json()\n",
    "    \n",
    "    return parse_wikidata_sitelinks(r, lang, False)\n",
    "\n",
    "\n",
    "def parse_wikidata_sitelinks(response, lang, item_to_title):\n",
    "    \"\"\"\n",
    "    Helper function for parsing sitelinks from Wikidata Api\n",
    "    \"\"\"\n",
    "    d = {}\n",
    "    if 'entities' not in response:\n",
    "        print ('No entities in reponse')\n",
    "        return d\n",
    "\n",
    "    for item, v in response['entities'].items():\n",
    "        if 'sitelinks' in v:\n",
    "            if lang in v['sitelinks']:\n",
    "                title = v['sitelinks'][lang]['title'].replace(' ', '_')\n",
    "                if item_to_title:\n",
    "                    d[item] = title\n",
    "                else:\n",
    "                    d[title] = item\n",
    "    return d\n",
    "\n",
    "def most_similar(embedding, title, lang, n=10, min_similarity=0.7):\n",
    "    item = titles_to_items([title,], lang)[title]\n",
    "    nn = embedding.most_similar(item, n=n, min_similarity=min_similarity)\n",
    "    nn_items = [x[0] for x in nn]\n",
    "    nn_items_to_titles = items_to_titles(nn_items, lang)\n",
    "    return [(nn_items_to_titles[x[0]], x[1]) for x in nn if x[0] in nn_items_to_titles]    "
   ]
  },
  {
   "cell_type": "code",
   "execution_count": 146,
   "metadata": {
    "collapsed": true
   },
   "outputs": [],
   "source": [
    "we_all = WikiEmbeddings('../data/2016_02_01_2016_02_07/2016_02_01_2016_02_07_vectors_all_100')"
   ]
  },
  {
   "cell_type": "code",
   "execution_count": 169,
   "metadata": {
    "collapsed": false
   },
   "outputs": [
    {
     "data": {
      "text/plain": [
       "[('Age_of_the_universe', 0.88983989409153741),\n",
       " ('Galaxy', 0.87180186370650736),\n",
       " ('Observable_universe', 0.86255352705979282),\n",
       " ('Missing_mass', 0.86211811611043809),\n",
       " ('Chronology_of_the_universe', 0.85911002864153585),\n",
       " ('Universe_(disambiguation)', 0.85866383190473128),\n",
       " ('Milky_Way', 0.85479991099154629),\n",
       " ('Metric_expansion_of_space', 0.85476181747903324)]"
      ]
     },
     "execution_count": 169,
     "metadata": {},
     "output_type": "execute_result"
    }
   ],
   "source": [
    "most_similar(we_all, 'Universe', 'en')"
   ]
  },
  {
   "cell_type": "code",
   "execution_count": 152,
   "metadata": {
    "collapsed": false
   },
   "outputs": [
    {
     "data": {
      "text/plain": [
       "[('Q500699', 0.88983989409153741),\n",
       " ('Q16652009', 0.88214426616017239),\n",
       " ('Q318', 0.87180186370650736),\n",
       " ('Q221392', 0.86255352705979282),\n",
       " ('Q4422615', 0.86211811611043809),\n",
       " ('Q136407', 0.85911002864153585),\n",
       " ('Q229206', 0.85866383190473128),\n",
       " ('Q321', 0.85479991099154629),\n",
       " ('Q1129469', 0.85476181747903324),\n",
       " ('Q3199067', 0.84957357797789501)]"
      ]
     },
     "execution_count": 152,
     "metadata": {},
     "output_type": "execute_result"
    }
   ],
   "source": [
    "we_all.most_similar('Q1')"
   ]
  }
 ],
 "metadata": {
  "kernelspec": {
   "display_name": "Python 2",
   "language": "python",
   "name": "python2"
  },
  "language_info": {
   "codemirror_mode": {
    "name": "ipython",
    "version": 2
   },
   "file_extension": ".py",
   "mimetype": "text/x-python",
   "name": "python",
   "nbconvert_exporter": "python",
   "pygments_lexer": "ipython2",
   "version": "2.7.11"
  }
 },
 "nbformat": 4,
 "nbformat_minor": 0
}
