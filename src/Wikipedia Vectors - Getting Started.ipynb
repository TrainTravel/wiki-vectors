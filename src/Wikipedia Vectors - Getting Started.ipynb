{
 "cells": [
  {
   "cell_type": "markdown",
   "metadata": {},
   "source": [
    "# Wikipedia Vectors - Getting Started"
   ]
  },
  {
   "cell_type": "markdown",
   "metadata": {},
   "source": [
    "In this project, we learned vector representations for Wikipedia articles and [Wikidata](https://www.wikidata.org/wiki/Wikidata:Main_Page) items using [Word2vec](https://en.wikipedia.org/wiki/Word2vec) models. The original use case for Word2vec is to learn vector representations of words based on word co-occurrence statistics. The intuition is that Word2vec learns \"similar\" vector representations for words that occur in similar contexts. Since words that appear in similar contexts are often semantically and syntactically similar, similar words have similar vector representations (as measured using the [cosine similarity](https://en.wikipedia.org/wiki/Cosine_similarity), for example). \n",
    "\n",
    "There have been several approaches to learning vector representations of Wikipedia articles that involve using the article text or the link network. Here we apply Word2vec to reading sessions and learn vector representations of articles such that articles that tend to be visited together have similar representations. We can learn representations for [Wikidata Items](https://www.wikidata.org/wiki/Help:Items) items by simply mapping article titles within each session to Wikidata items using [Wikidata sitelinks](https://www.wikidata.org/wiki/Help:Sitelinks). The beauty of these Wikidata vectors is that they are trained over reading sessions for all Wikipedia language editions. Another advantage is that they implicitly give a vector representation for any article that has been mapped to a Wikidata item in any language.\n",
    "\n",
    "What follows are some visualizations and code examples to help you get started with using Wikipedia Vectors for your own projects."
   ]
  },
  {
   "cell_type": "markdown",
   "metadata": {},
   "source": [
    "### A Simple Embedding Class"
   ]
  },
  {
   "cell_type": "markdown",
   "metadata": {},
   "source": [
    "The term 'embedding' is often used to refer to a collection of vector representations (Technically, an embedding is a function that maps words to points in a vecotor space). The `WikiEmbedding` class takes care of loading the vector data into a matrix and exposes a method for finding the nearest neighbors of an article in the embedding."
   ]
  },
  {
   "cell_type": "code",
   "execution_count": 1,
   "metadata": {
    "collapsed": false
   },
   "outputs": [],
   "source": [
    "import numpy as np\n",
    "from sklearn.preprocessing import normalize\n",
    "import requests\n",
    "import matplotlib.pyplot as plt\n",
    "\n",
    "import warnings\n",
    "warnings.filterwarnings('ignore')\n",
    "%matplotlib inline\n",
    "%load_ext autoreload\n",
    "%autoreload 2\n",
    "\n",
    "\n",
    "class WikiEmbedding:\n",
    "\n",
    "    def __init__(self, fname):\n",
    "        \n",
    "        self.w2idx = {}\n",
    "        self.idx2w = []\n",
    "    \n",
    "        with open(fname, 'rb') as f:\n",
    "            \n",
    "            m, n = next(f).decode('utf8').strip().split(' ')\n",
    "            self.E = np.zeros((int(m), int(n)))\n",
    "\n",
    "            for i, l in enumerate(f):\n",
    "                l = l.decode('utf8').strip().split(' ')\n",
    "                w = l[0]\n",
    "                self.E[i] = np.array(l[1:])\n",
    "                self.w2idx[w] = i\n",
    "                self.idx2w.append(w)\n",
    "                \n",
    "        self.E = normalize(self.E)\n",
    "        self.idx2w = np.array(self.idx2w)\n",
    "\n",
    "    def most_similar(self, w, n=10, min_similarity=0.7):\n",
    "        \"\"\"\n",
    "        Find the top-N most similar words to w, based on cosine similarity.\n",
    "        As a speed optimization, only consider neighbors with a similarity\n",
    "        above min_similarity\n",
    "        \"\"\"\n",
    "        \n",
    "        if type(w) is str:\n",
    "            w = self.E[self.w2idx[w]]\n",
    "\n",
    "        scores = self.E.dot(w)\n",
    "        # only consider neighbors above threshold\n",
    "        min_idxs = np.where(scores > min_similarity)\n",
    "        ranking = np.argsort(-scores[min_idxs])[1:(n+1)]\n",
    "        nn_ws = self.idx2w[min_idxs][ranking]\n",
    "        nn_scores = scores[min_idxs][ranking]\n",
    "        return list(zip(list(nn_ws), list(nn_scores)))\n",
    "    "
   ]
  },
  {
   "cell_type": "markdown",
   "metadata": {},
   "source": [
    "### Exploring Nearest Neighbors"
   ]
  },
  {
   "cell_type": "markdown",
   "metadata": {},
   "source": [
    "Here we load an embedding over English Wikipedia articles trained on reading sessions in enwiki for the first week of February 2016 (Note: we will get to using Wikidata embeddings in a bit). We then show the nearest neighbors for some sample articles."
   ]
  },
  {
   "cell_type": "code",
   "execution_count": 2,
   "metadata": {
    "collapsed": false
   },
   "outputs": [],
   "source": [
    "en_embedding = WikiEmbedding('../data/2016_02_01_2016_02_07/2016_02_01_2016_02_07_vectors_en_100')"
   ]
  },
  {
   "cell_type": "code",
   "execution_count": 14,
   "metadata": {
    "collapsed": false
   },
   "outputs": [
    {
     "data": {
      "text/plain": [
       "[('Observable_universe', 0.85375291632895278),\n",
       " ('Age_of_the_universe', 0.85235642926044197),\n",
       " ('Illustris_project', 0.85231994099886066),\n",
       " ('Galaxy', 0.85141838107678502),\n",
       " ('Physical_cosmology', 0.84614629914868011),\n",
       " ('Galaxy_formation_and_evolution', 0.84448425408485028),\n",
       " (\"Hubble's_law\", 0.8368343985943929),\n",
       " ('Particle_horizon', 0.83522401669839907),\n",
       " ('Comoving_distance', 0.83190559659819141),\n",
       " ('Ultimate_fate_of_the_universe', 0.82325352743317781)]"
      ]
     },
     "execution_count": 14,
     "metadata": {},
     "output_type": "execute_result"
    }
   ],
   "source": [
    "en_embedding.most_similar('Universe')"
   ]
  },
  {
   "cell_type": "code",
   "execution_count": 15,
   "metadata": {
    "collapsed": false
   },
   "outputs": [
    {
     "data": {
      "text/plain": [
       "[('Greater_Swiss_Mountain_Dog', 0.95114274564425605),\n",
       " ('Appenzeller_Sennenhund', 0.9139523057004677),\n",
       " ('Swiss_mountain_dog', 0.90908280486459647),\n",
       " ('Entlebucher_Mountain_Dog', 0.90889919827633192),\n",
       " ('St._Bernard_(dog)', 0.88576450016436092),\n",
       " ('Newfoundland_(dog)', 0.86940457253174808),\n",
       " ('Working_Group_(dogs)', 0.86358809878298959),\n",
       " ('Mountain_dog', 0.84594602706820377),\n",
       " ('Schweizerischer_Niederlaufhund', 0.81862187979827961),\n",
       " ('Bouvier_des_Flandres', 0.81824708187226802)]"
      ]
     },
     "execution_count": 15,
     "metadata": {},
     "output_type": "execute_result"
    }
   ],
   "source": [
    "en_embedding.most_similar('Bernese_Mountain_Dog')"
   ]
  },
  {
   "cell_type": "markdown",
   "metadata": {},
   "source": [
    "### Visualizing the Embedding using TSNE\n",
    "\n",
    "\n",
    "The [t-SNE](https://en.wikipedia.org/wiki/T-distributed_stochastic_neighbor_embedding) algorithm tries to take a collection of high dimensional vectors and find lower dimensional representations such that the relative distances between points stay preserved as well as possible. This allows us to visualize a part of the embedding in 2D. In the plot below you see the 2D t-SNE projection for the 20 most popular articles in the training data. (Note: The code for getting a readable scatter plot is a bit hairy, so the code has been factored out to a helper file)"
   ]
  },
  {
   "cell_type": "code",
   "execution_count": 5,
   "metadata": {
    "collapsed": false
   },
   "outputs": [],
   "source": [
    "from getting_started_helpers import get_tsne, plot_tsne"
   ]
  },
  {
   "cell_type": "code",
   "execution_count": 6,
   "metadata": {
    "collapsed": false
   },
   "outputs": [
    {
     "data": {
      "image/png": "[encoded data removed]",
      "text/plain": [
       "<matplotlib.figure.Figure at 0x119edf908>"
      ]
     },
     "metadata": {},
     "output_type": "display_data"
    }
   ],
   "source": [
    "tsne_en_embedding = get_tsne(en_embedding, pca_dim = 5, n_words=1000)\n",
    "plot_tsne(en_embedding, tsne_en_embedding, n = 20)"
   ]
  },
  {
   "cell_type": "markdown",
   "metadata": {},
   "source": [
    "When looking at a single week of data, the most popular articles tend to be about things trending in the media. We can see that articles about Football, politics, OJ Simplson cluster together."
   ]
  },
  {
   "cell_type": "markdown",
   "metadata": {},
   "source": [
    "### Working with Wikidata Vectors\n",
    "\n",
    "One difficulty with working with the Wikidata embedding is that item ids are hard to interpret. We can, however, use the Wikidata API to map back and forth between Wikipedia articles and Wikidata ids. Below are some helper funtions for doing the mapping."
   ]
  },
  {
   "cell_type": "code",
   "execution_count": 7,
   "metadata": {
    "collapsed": false
   },
   "outputs": [],
   "source": [
    "def items_to_titles(items, lang):\n",
    "    \"\"\"\n",
    "    Input: a list of Wikidata item ids\n",
    "    Output: a dictionary mapping from ids to title in lang\n",
    "    \n",
    "    Note: items without an articlce in lang are not included in the output\n",
    "    \"\"\"\n",
    "    lang += 'wiki'\n",
    "    payload = {'action': 'wbgetentities',\n",
    "               'props': 'sitelinks/urls',\n",
    "               'format': 'json',\n",
    "               'ids': '|'.join(items),               \n",
    "              }\n",
    "    r = requests.get('https://www.wikidata.org/w/api.php', params=payload).json()\n",
    "    \n",
    "    return parse_wikidata_sitelinks(r, lang, True)\n",
    "    \n",
    "    \n",
    "def titles_to_items(titles, lang):\n",
    "    \"\"\"\n",
    "    Input: a list of article titles in lang\n",
    "    Output: a dictionary mapping from titles in lang to Wikidata ids\n",
    "    \n",
    "    Note: articles in lang without a Wikidata id are not included in the output\n",
    "\n",
    "    \"\"\"\n",
    "    lang += 'wiki'\n",
    "    payload = {'action': 'wbgetentities',\n",
    "               'props': 'sitelinks/urls',\n",
    "               'format': 'json',\n",
    "               'sites': lang,\n",
    "               'titles': '|'.join(titles),\n",
    "              }\n",
    "    r = requests.get('https://www.wikidata.org/w/api.php', params=payload).json()\n",
    "    \n",
    "    return parse_wikidata_sitelinks(r, lang, False)\n",
    "\n",
    "\n",
    "def parse_wikidata_sitelinks(response, lang, item_to_title):\n",
    "    \"\"\"\n",
    "    Helper function for parsing sitelinks from Wikidata Api\n",
    "    \"\"\"\n",
    "    d = {}\n",
    "    if 'entities' not in response:\n",
    "        print ('No entities in reponse')\n",
    "        return d\n",
    "\n",
    "    for item, v in response['entities'].items():\n",
    "        if 'sitelinks' in v:\n",
    "            if lang in v['sitelinks']:\n",
    "                title = v['sitelinks'][lang]['title'].replace(' ', '_')\n",
    "                if item_to_title:\n",
    "                    d[item] = title\n",
    "                else:\n",
    "                    d[title] = item\n",
    "    return d"
   ]
  },
  {
   "cell_type": "markdown",
   "metadata": {},
   "source": [
    "Given these helper functions, we can now look for nearest neighbors for a Wikipedia article in any language by first mapping the article to its Wikidata item, then finding the nearest neighbors in the Wikidata embedding and finally mapping the Wikidata items back to article names."
   ]
  },
  {
   "cell_type": "code",
   "execution_count": 8,
   "metadata": {
    "collapsed": true
   },
   "outputs": [],
   "source": [
    "def most_similar(embedding, title, lang, n=10, min_similarity=0.7):\n",
    "    item = titles_to_items([title,], lang)[title]\n",
    "    nn = embedding.most_similar(item, n=n, min_similarity=min_similarity)\n",
    "    nn_items = [x[0] for x in nn]\n",
    "    nn_items_to_titles = items_to_titles(nn_items, lang)\n",
    "    return [(nn_items_to_titles[x[0]], x[1]) for x in nn if x[0] in nn_items_to_titles]    "
   ]
  },
  {
   "cell_type": "markdown",
   "metadata": {},
   "source": [
    "Lets try it out! First we load the wikidata embedding."
   ]
  },
  {
   "cell_type": "code",
   "execution_count": 10,
   "metadata": {
    "collapsed": false
   },
   "outputs": [],
   "source": [
    "wikidata_embedding = WikiEmbedding('../data/2016_02_01_2016_02_07/2016_02_01_2016_02_07_vectors_all_100')"
   ]
  },
  {
   "cell_type": "markdown",
   "metadata": {},
   "source": [
    "Then we can query nearest neighbors for 'Q1', the 'Universe' Wikidata item."
   ]
  },
  {
   "cell_type": "code",
   "execution_count": 11,
   "metadata": {
    "collapsed": false
   },
   "outputs": [
    {
     "data": {
      "text/plain": [
       "[('Q500699', 0.88983989409153752),\n",
       " ('Q16652009', 0.88214426616017261),\n",
       " ('Q318', 0.87180186370650747),\n",
       " ('Q221392', 0.8625535270597926),\n",
       " ('Q4422615', 0.86211811611043765),\n",
       " ('Q136407', 0.85911002864153574),\n",
       " ('Q229206', 0.85866383190473128),\n",
       " ('Q321', 0.85479991099154629),\n",
       " ('Q1129469', 0.85476181747903301),\n",
       " ('Q3199067', 0.84957357797789501)]"
      ]
     },
     "execution_count": 11,
     "metadata": {},
     "output_type": "execute_result"
    }
   ],
   "source": [
    "wikidata_embedding.most_similar('Q1')"
   ]
  },
  {
   "cell_type": "markdown",
   "metadata": {},
   "source": [
    "Or we can get query the Wikidata embedding for the nearest neighbors for enwiki 'Universe' article."
   ]
  },
  {
   "cell_type": "code",
   "execution_count": 12,
   "metadata": {
    "collapsed": false
   },
   "outputs": [
    {
     "data": {
      "text/plain": [
       "[('Age_of_the_universe', 0.88983989409153752),\n",
       " ('Galaxy', 0.87180186370650747),\n",
       " ('Observable_universe', 0.8625535270597926),\n",
       " ('Missing_mass', 0.86211811611043765),\n",
       " ('Chronology_of_the_universe', 0.85911002864153574),\n",
       " ('Universe_(disambiguation)', 0.85866383190473128),\n",
       " ('Milky_Way', 0.85479991099154629),\n",
       " ('Metric_expansion_of_space', 0.85476181747903301)]"
      ]
     },
     "execution_count": 12,
     "metadata": {},
     "output_type": "execute_result"
    }
   ],
   "source": [
    "most_similar(wikidata_embedding, 'Universe', 'en')"
   ]
  },
  {
   "cell_type": "markdown",
   "metadata": {},
   "source": [
    "As a comparison, here are the nearest neighbors for 'Universe' in the enwiki embedding, which was only trained on enwiki reading sessions. The top neighbors are pretty different."
   ]
  },
  {
   "cell_type": "code",
   "execution_count": 13,
   "metadata": {
    "collapsed": false
   },
   "outputs": [
    {
     "data": {
      "text/plain": [
       "[('Observable_universe', 0.85375291632895278),\n",
       " ('Age_of_the_universe', 0.85235642926044197),\n",
       " ('Illustris_project', 0.85231994099886066),\n",
       " ('Galaxy', 0.85141838107678502),\n",
       " ('Physical_cosmology', 0.84614629914868011),\n",
       " ('Galaxy_formation_and_evolution', 0.84448425408485028),\n",
       " (\"Hubble's_law\", 0.8368343985943929),\n",
       " ('Particle_horizon', 0.83522401669839907),\n",
       " ('Comoving_distance', 0.83190559659819141),\n",
       " ('Ultimate_fate_of_the_universe', 0.82325352743317781)]"
      ]
     },
     "execution_count": 13,
     "metadata": {},
     "output_type": "execute_result"
    }
   ],
   "source": [
    "en_embedding.most_similar('Universe')"
   ]
  },
  {
   "cell_type": "markdown",
   "metadata": {},
   "source": [
    "### Application Ideas\n",
    "\n",
    "Here are some ideas for how to use these embeddings to improve Wikipedia.\n",
    "\n",
    "#### Translation Recommendations\n",
    "\n",
    "We recently created a [tool](http://recommend.wmflabs.org/#Recommend) for recommending articles for translation between Wikipedias. Users choose a source language to translate from and a target language to translate to. Then they choose a seed article in the source language that represents their interests. We can find articles in the source language missing in the target language using Wikidata sitelinks, and then rank the missing articles according to the similarity between their vectors and the seed vector. \n",
    "\n",
    "#### Reading Recommendations\n",
    "The Reading Team at WMF recently introduced a \"Related Pages\" feature that gives readers 3 recommendations for further reading. The current recommendations are generated by the [More Like This Query](https://www.elastic.co/guide/en/elasticsearch/reference/current/query-dsl-mlt-query.html) feature in Elastic Search.\n",
    "\n",
    "Instead, we could generate recommendations for further reading by looking up the nearest neighbors of the current article the reader is on in an embedding. The beauty of this approach is that the nearest neighbors are by definition articles that tend to be read together. Furthermore, the Wikidata embedding would allow us to use a single model to generate recommendations across all languages!\n",
    "\n",
    "#### Link Recommendations\n",
    "If articles are frequently read within the same session, you might be able to make Wikipedia easier to navigate if you were to create a link between them. For a given article you could generate recommendations for links to add by finding the nearest neighbors that are not already linked and adding a link if the original article has a suitable anchor text. Again, the Wikidata embedding would allow you to build a model for all languages."
   ]
  }
 ],
 "metadata": {
  "kernelspec": {
   "display_name": "Python 3",
   "language": "python",
   "name": "python3"
  },
  "language_info": {
   "codemirror_mode": {
    "name": "ipython",
    "version": 3
   },
   "file_extension": ".py",
   "mimetype": "text/x-python",
   "name": "python",
   "nbconvert_exporter": "python",
   "pygments_lexer": "ipython3",
   "version": "3.5.1"
  }
 },
 "nbformat": 4,
 "nbformat_minor": 0
}
